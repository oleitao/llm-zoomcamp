{
 "cells": [
  {
   "cell_type": "markdown",
   "id": "67163ec6",
   "metadata": {},
   "source": [
    "# 02 Homework: Vector Search"
   ]
  },
  {
   "cell_type": "code",
   "execution_count": 1,
   "id": "a3a312b3",
   "metadata": {},
   "outputs": [
    {
     "name": "stdout",
     "output_type": "stream",
     "text": [
      "Requirement already satisfied: pip in /home/oleitao/repos/zoomcamp/llm-zoomcamp/.venv/lib/python3.10/site-packages (25.1.1)\n"
     ]
    }
   ],
   "source": [
    "!python -m pip install -U pip\n",
    "!python -m pip install -q \"qdrant-client[fastembed]>=1.14.2\""
   ]
  },
  {
   "cell_type": "code",
   "execution_count": 2,
   "id": "9fe7a527",
   "metadata": {},
   "outputs": [],
   "source": [
    "import numpy as np\n",
    "\n",
    "from fastembed import TextEmbedding"
   ]
  },
  {
   "cell_type": "markdown",
   "id": "f418ac75",
   "metadata": {},
   "source": [
    "## Q1. Embedding the query"
   ]
  },
  {
   "cell_type": "code",
   "execution_count": 3,
   "id": "005344fe",
   "metadata": {},
   "outputs": [],
   "source": [
    "EMBEDDING_DIMENSIONALITY = 512\n",
    "model_handle = \"jinaai/jina-embeddings-v2-small-en\"\n",
    "\n",
    "embedding_model = TextEmbedding(model_name=model_handle)"
   ]
  },
  {
   "cell_type": "code",
   "execution_count": 4,
   "id": "7779a4ae",
   "metadata": {},
   "outputs": [
    {
     "name": "stdout",
     "output_type": "stream",
     "text": [
      "Min value:  -0.11726373885183883\n"
     ]
    }
   ],
   "source": [
    "query1 = 'I just discovered the course. Can I join now?'\n",
    "documents1 = [ query1 ]\n",
    "q1 = np.array(list(embedding_model.embed(documents1))[0])\n",
    "print('Min value: ', sorted(q1)[0])"
   ]
  },
  {
   "cell_type": "code",
   "execution_count": 5,
   "id": "170d708d",
   "metadata": {},
   "outputs": [
    {
     "data": {
      "text/plain": [
       "np.float64(1.0)"
      ]
     },
     "execution_count": 5,
     "metadata": {},
     "output_type": "execute_result"
    }
   ],
   "source": [
    "np.linalg.norm(q1)"
   ]
  },
  {
   "cell_type": "code",
   "execution_count": 6,
   "id": "985b0133",
   "metadata": {},
   "outputs": [
    {
     "data": {
      "text/plain": [
       "np.float64(1.0000000000000002)"
      ]
     },
     "execution_count": 6,
     "metadata": {},
     "output_type": "execute_result"
    }
   ],
   "source": [
    "q1.dot(q1)"
   ]
  },
  {
   "cell_type": "markdown",
   "id": "7282b6af",
   "metadata": {},
   "source": [
    "## Q2. Cosine similarity with another vector"
   ]
  },
  {
   "cell_type": "code",
   "execution_count": 7,
   "id": "a9d090eb",
   "metadata": {},
   "outputs": [
    {
     "name": "stdout",
     "output_type": "stream",
     "text": [
      "cosine similarity:  0.9008528895674548\n"
     ]
    }
   ],
   "source": [
    "query2 = 'Can I still join the course after the start date?'\n",
    "documents2 = [ query2 ]\n",
    "q2 = np.array(list(embedding_model.embed(documents2))[0])\n",
    "print('cosine similarity: ', q1.dot(q2))"
   ]
  },
  {
   "cell_type": "markdown",
   "id": "e04868ee",
   "metadata": {},
   "source": [
    "## Q3. Ranking by cosine"
   ]
  },
  {
   "cell_type": "code",
   "execution_count": 8,
   "id": "fefd79b9",
   "metadata": {},
   "outputs": [],
   "source": [
    "documents = [{'text': \"Yes, even if you don't register, you're still eligible to submit the homeworks.\\nBe aware, however, that there will be deadlines for turning in the final projects. So don't leave everything for the last minute.\",\n",
    "  'section': 'General course-related questions',\n",
    "  'question': 'Course - Can I still join the course after the start date?',\n",
    "  'course': 'data-engineering-zoomcamp'},\n",
    " {'text': 'Yes, we will keep all the materials after the course finishes, so you can follow the course at your own pace after it finishes.\\nYou can also continue looking at the homeworks and continue preparing for the next cohort. I guess you can also start working on your final capstone project.',\n",
    "  'section': 'General course-related questions',\n",
    "  'question': 'Course - Can I follow the course after it finishes?',\n",
    "  'course': 'data-engineering-zoomcamp'},\n",
    " {'text': \"The purpose of this document is to capture frequently asked technical questions\\nThe exact day and hour of the course will be 15th Jan 2024 at 17h00. The course will start with the first  “Office Hours'' live.1\\nSubscribe to course public Google Calendar (it works from Desktop only).\\nRegister before the course starts using this link.\\nJoin the course Telegram channel with announcements.\\nDon’t forget to register in DataTalks.Club's Slack and join the channel.\",\n",
    "  'section': 'General course-related questions',\n",
    "  'question': 'Course - When will the course start?',\n",
    "  'course': 'data-engineering-zoomcamp'},\n",
    " {'text': 'You can start by installing and setting up all the dependencies and requirements:\\nGoogle cloud account\\nGoogle Cloud SDK\\nPython 3 (installed with Anaconda)\\nTerraform\\nGit\\nLook over the prerequisites and syllabus to see if you are comfortable with these subjects.',\n",
    "  'section': 'General course-related questions',\n",
    "  'question': 'Course - What can I do before the course starts?',\n",
    "  'course': 'data-engineering-zoomcamp'},\n",
    " {'text': 'Star the repo! Share it with friends if you find it useful ❣️\\nCreate a PR if you see you can improve the text or the structure of the repository.',\n",
    "  'section': 'General course-related questions',\n",
    "  'question': 'How can we contribute to the course?',\n",
    "  'course': 'data-engineering-zoomcamp'}]"
   ]
  },
  {
   "cell_type": "code",
   "execution_count": 9,
   "id": "8c03514e",
   "metadata": {},
   "outputs": [],
   "source": [
    "documents_text = [ doc['text'] for doc in documents ]\n",
    "embeddings = np.array(list(embedding_model.embed(documents_text)))"
   ]
  },
  {
   "cell_type": "code",
   "execution_count": 10,
   "id": "11ffe226",
   "metadata": {},
   "outputs": [
    {
     "name": "stdout",
     "output_type": "stream",
     "text": [
      "Document index with the highest similarity:  1\n"
     ]
    }
   ],
   "source": [
    "similarities = embeddings.dot(q1)\n",
    "print('Document index with the highest similarity: ', int(similarities.argsort()[-1]))"
   ]
  },
  {
   "cell_type": "markdown",
   "id": "f437365b",
   "metadata": {},
   "source": [
    "## Q4. Ranking by cosine, version two"
   ]
  },
  {
   "cell_type": "code",
   "execution_count": 11,
   "id": "f774ec16",
   "metadata": {},
   "outputs": [],
   "source": [
    "documents_full_text = [ doc['question'] + ' ' + doc['text'] for doc in documents ]\n",
    "embeddings_full_text = np.array(list(embedding_model.embed(documents_full_text)))"
   ]
  },
  {
   "cell_type": "code",
   "execution_count": 12,
   "id": "44f37cad",
   "metadata": {},
   "outputs": [
    {
     "name": "stdout",
     "output_type": "stream",
     "text": [
      "Document index with the highest similarity:  0\n"
     ]
    }
   ],
   "source": [
    "similarities_full_text = embeddings_full_text.dot(q1)\n",
    "print('Document index with the highest similarity: ', int(similarities_full_text.argsort()[-1]))"
   ]
  },
  {
   "cell_type": "markdown",
   "id": "d9791f7f",
   "metadata": {},
   "source": [
    "## Q5. Selecting the embedding model"
   ]
  },
  {
   "cell_type": "code",
   "execution_count": 13,
   "id": "b63118e9",
   "metadata": {},
   "outputs": [
    {
     "name": "stdout",
     "output_type": "stream",
     "text": [
      "Smallest dimensionality:  384\n"
     ]
    }
   ],
   "source": [
    "print('Smallest dimensionality: ', sorted(TextEmbedding.list_supported_models(), key=lambda item: item['dim'])[0]['dim'])"
   ]
  },
  {
   "cell_type": "markdown",
   "id": "c807400e",
   "metadata": {},
   "source": [
    "## Q6. Indexing with qdrant (2 points)"
   ]
  },
  {
   "cell_type": "code",
   "execution_count": 14,
   "id": "d0edd966",
   "metadata": {},
   "outputs": [],
   "source": [
    "import requests \n",
    "\n",
    "docs_url = 'https://github.com/alexeygrigorev/llm-rag-workshop/raw/main/notebooks/documents.json'\n",
    "docs_response = requests.get(docs_url)\n",
    "documents_raw = docs_response.json()\n",
    "\n",
    "\n",
    "documents = []\n",
    "\n",
    "for course in documents_raw:\n",
    "    course_name = course['course']\n",
    "    if course_name != 'machine-learning-zoomcamp':\n",
    "        continue\n",
    "\n",
    "    for doc in course['documents']:\n",
    "        doc['course'] = course_name\n",
    "        documents.append(doc)"
   ]
  },
  {
   "cell_type": "code",
   "execution_count": 15,
   "id": "23cd2887",
   "metadata": {},
   "outputs": [],
   "source": [
    "from qdrant_client import QdrantClient, models"
   ]
  },
  {
   "cell_type": "code",
   "execution_count": 16,
   "id": "2091d4f1",
   "metadata": {},
   "outputs": [],
   "source": [
    "client = QdrantClient(\"http://localhost:6333\") "
   ]
  },
  {
   "cell_type": "code",
   "execution_count": 18,
   "id": "4e60dc81",
   "metadata": {},
   "outputs": [
    {
     "data": {
      "text/plain": [
       "True"
      ]
     },
     "execution_count": 18,
     "metadata": {},
     "output_type": "execute_result"
    }
   ],
   "source": [
    "EMBEDDING_DIMENSIONALITY = 384\n",
    "model_handle = \"BAAI/bge-small-en\"\n",
    "\n",
    "collection_name = \"llm-zoomcamp-rag\"\n",
    "\n",
    "client.delete_collection(collection_name=collection_name)\n",
    "client.create_collection(\n",
    "    collection_name=collection_name,\n",
    "    vectors_config=models.VectorParams(\n",
    "        size=EMBEDDING_DIMENSIONALITY,  # Dimensionality of the vectors\n",
    "        distance=models.Distance.COSINE  # Distance metric for similarity search\n",
    "    )\n",
    ")"
   ]
  },
  {
   "cell_type": "code",
   "execution_count": 19,
   "id": "146cfbb1",
   "metadata": {},
   "outputs": [],
   "source": [
    "points = []\n",
    "\n",
    "for id, doc in enumerate(documents):\n",
    "    text = doc['question'] + ' ' + doc['text']\n",
    "    vector = models.Document(text=text, model=model_handle)\n",
    "    point = models.PointStruct(\n",
    "        id=id,\n",
    "        vector=vector,\n",
    "        payload={\n",
    "            \"text\": doc['text'],\n",
    "            \"section\": doc['section'],\n",
    "            \"course\": course['course']\n",
    "        }\n",
    "    )\n",
    "    points.append(point)"
   ]
  },
  {
   "cell_type": "code",
   "execution_count": 20,
   "id": "b9fb488d",
   "metadata": {},
   "outputs": [
    {
     "data": {
      "text/plain": [
       "UpdateResult(operation_id=0, status=<UpdateStatus.COMPLETED: 'completed'>)"
      ]
     },
     "execution_count": 20,
     "metadata": {},
     "output_type": "execute_result"
    }
   ],
   "source": [
    "client.upsert(\n",
    "    collection_name=collection_name,\n",
    "    points=points\n",
    ")"
   ]
  },
  {
   "cell_type": "code",
   "execution_count": 21,
   "id": "351b5b91",
   "metadata": {},
   "outputs": [],
   "source": [
    "def search(query, limit=1):\n",
    "\n",
    "    results = client.query_points(\n",
    "        collection_name=collection_name,\n",
    "        query=models.Document(\n",
    "            text=query,\n",
    "            model=model_handle \n",
    "        ),\n",
    "        limit=limit,\n",
    "        with_payload=True\n",
    "    )\n",
    "\n",
    "    return results"
   ]
  },
  {
   "cell_type": "code",
   "execution_count": 22,
   "id": "55ebaeed",
   "metadata": {},
   "outputs": [
    {
     "name": "stdout",
     "output_type": "stream",
     "text": [
      "Highest score:  0.87031734\n"
     ]
    }
   ],
   "source": [
    "print('Highest score: ', search(query1).points[0].score)"
   ]
  },
  {
   "cell_type": "code",
   "execution_count": null,
   "id": "562af46b",
   "metadata": {},
   "outputs": [],
   "source": []
  }
 ],
 "metadata": {
  "kernelspec": {
   "display_name": ".venv",
   "language": "python",
   "name": "python3"
  },
  "language_info": {
   "codemirror_mode": {
    "name": "ipython",
    "version": 3
   },
   "file_extension": ".py",
   "mimetype": "text/x-python",
   "name": "python",
   "nbconvert_exporter": "python",
   "pygments_lexer": "ipython3",
   "version": "3.10.12"
  }
 },
 "nbformat": 4,
 "nbformat_minor": 5
}
